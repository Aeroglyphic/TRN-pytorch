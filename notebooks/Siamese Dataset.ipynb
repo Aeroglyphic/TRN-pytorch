{
 "cells": [
  {
   "cell_type": "code",
   "execution_count": 1,
   "metadata": {},
   "outputs": [],
   "source": [
    "import pandas as pd\n",
    "import os"
   ]
  },
  {
   "cell_type": "code",
   "execution_count": 2,
   "metadata": {},
   "outputs": [],
   "source": [
    "from IPython.core.display import display, HTML\n",
    "\n",
    "def gif_id_to_index(gif_ids, gif_id):\n",
    "    return next(iter(np.where(gif_ids == gif_id)[0]), None)\n",
    "\n",
    "\n",
    "def get_gif_url(id, ext='gif'):\n",
    "    return f'https://media.giphy.com/media/{id}/giphy.{ext}'\n",
    "\n",
    "\n",
    "def display_gif(gif_id):\n",
    "    display(HTML(f\"<img src={get_gif_url(gif_id)} style='width: 30%; float: left'/>\"))\n",
    "    \n",
    "\n",
    "def display_gifs(gif_ids, width=150, height_pct=100):\n",
    "    display(HTML(f\"\"\"\n",
    "        <div style='display: flex; flex-wrap: wrap;'>\n",
    "            {''.join(f\"<a href={get_gif_url(x)} style='width: {width}px; height: {height_pct}%; margin: 5px'><img src={get_gif_url(x)} alt={x} /></a>\" for x in gif_ids)}\n",
    "        </div>\n",
    "    \"\"\"))\n",
    "    \n",
    "REPO_PATH = '/home/ubuntu/dvoitekh/TRN-pytorch'"
   ]
  },
  {
   "cell_type": "code",
   "execution_count": 4,
   "metadata": {},
   "outputs": [
    {
     "data": {
      "text/plain": [
       "1378"
      ]
     },
     "execution_count": 4,
     "metadata": {},
     "output_type": "execute_result"
    }
   ],
   "source": [
    "import pickle\n",
    "\n",
    "similar_gifs = pickle.load(open(f'{REPO_PATH}/siamese_dataset.pkl', 'rb'))\n",
    "# remove = {2, 8, 19, 30, 32, 42, 45, 46, 48, 49, 50, 51, 58, 64, 66, 78, 83, 91, 93, 106, 116}\n",
    "# similar_gifs = [x for i, x in enumerate(similar_gifs) if i not in remove][:500]\n",
    "len(similar_gifs)"
   ]
  },
  {
   "cell_type": "code",
   "execution_count": 5,
   "metadata": {},
   "outputs": [
    {
     "data": {
      "text/plain": [
       "[{'26ooAPkP9FPqk6e9s1', '65R4yT6qwFcBI6WAn4'},\n",
       " {'4ryp9Ihw0BEyc', 'XOY5y7YXjTD7q'},\n",
       " {'3oEduUQtEx8YEdQ2w8', 'jTHJsHfVypYl3iLBHC'},\n",
       " {'3oKGzayyPJGE7xuytO', 'l4FszqrMzZpWs1ZMQ'},\n",
       " {'8ifa9TRWaiqNG', 'YlEMMJMwAeaPK', 'jrU2YGXXZOiJO'},\n",
       " {'DhyveKEG12Vi0', 'XfrQAetZuPeN2'},\n",
       " {'Tu96GNA7BH5T2', 'dAS5aQ5mbA6o8'},\n",
       " {'CjNifqd0JIgV6biOjK', 'XumwweOEq89ZS'},\n",
       " {'3o6vY4wVYwGuosjJHW', 'xT39D66wnoy8uUvkkg'},\n",
       " {'NSGAQbgnFbph5wybNX', 'l1VUuoQB6wkX4cQSW5'}]"
      ]
     },
     "execution_count": 5,
     "metadata": {},
     "output_type": "execute_result"
    }
   ],
   "source": [
    "similar_gifs[:10]"
   ]
  },
  {
   "cell_type": "code",
   "execution_count": 7,
   "metadata": {},
   "outputs": [],
   "source": [
    "dataset = []\n",
    "\n",
    "for i, gifs in enumerate(similar_gifs):\n",
    "    for x in gifs:\n",
    "       dataset.append((x, len(os.listdir(f'{REPO_PATH}/dataset/{x}/')), i)) "
   ]
  },
  {
   "cell_type": "code",
   "execution_count": 8,
   "metadata": {},
   "outputs": [
    {
     "data": {
      "text/plain": [
       "[('5T0yHreev5t0nNd58w', 50, 300),\n",
       " ('2RsOOy0l66SiY', 50, 301),\n",
       " ('12Ssov0Tiwz3r2', 50, 302),\n",
       " ('pBClqOx0h3sGI', 50, 303),\n",
       " ('xT5LMqR9sJyotj22is', 50, 304),\n",
       " ('xUNd9SxWzjFhtkBbYk', 50, 305),\n",
       " ('HJ1oCwvtM17Z6', 50, 306),\n",
       " ('3ohjV3SOirzxEruvcs', 50, 307),\n",
       " ('hoFipU5E5qoRa', 50, 308),\n",
       " ('tPUbmC3phJv56', 50, 309),\n",
       " ('vDnOnH6W79Deo', 50, 310),\n",
       " ('13IlBBewnmEw9i', 50, 311),\n",
       " ('sv3UmX044ShOg', 50, 312),\n",
       " ('MWsONicKonBmg', 50, 313),\n",
       " ('3uIGrnee1m05G', 50, 314),\n",
       " ('A0C5KhIvqk7Kw', 50, 315),\n",
       " ('DLb1jekzc6xu8', 50, 316),\n",
       " ('x6W2YHsMYskCs', 50, 317),\n",
       " ('ycf0Je4nZwoQo', 50, 318),\n",
       " ('eAJKk3pcu2R4A', 50, 319)]"
      ]
     },
     "execution_count": 8,
     "metadata": {},
     "output_type": "execute_result"
    }
   ],
   "source": [
    "dataset[-200:-180]"
   ]
  },
  {
   "cell_type": "code",
   "execution_count": 9,
   "metadata": {},
   "outputs": [],
   "source": [
    "categories = list(range(len(similar_gifs)))\n",
    "pd.DataFrame({'a': categories}).to_csv(f'{REPO_PATH}/dataset/category.txt', header=False, index=False)"
   ]
  },
  {
   "cell_type": "code",
   "execution_count": 10,
   "metadata": {},
   "outputs": [],
   "source": [
    "from sklearn.model_selection import train_test_split\n",
    "\n",
    "X_train, X_test, y_train, y_test = train_test_split(dataset, list(range(len(dataset))), test_size=0.1)"
   ]
  },
  {
   "cell_type": "code",
   "execution_count": 11,
   "metadata": {},
   "outputs": [
    {
     "data": {
      "text/plain": [
       "1841"
      ]
     },
     "execution_count": 11,
     "metadata": {},
     "output_type": "execute_result"
    }
   ],
   "source": [
    "len(X_train) + len(X_test)"
   ]
  },
  {
   "cell_type": "code",
   "execution_count": 12,
   "metadata": {},
   "outputs": [],
   "source": [
    "pd.DataFrame({'a': [v[0] for v in X_train],\n",
    "              'b': [v[1] for v in X_train],\n",
    "              'c': [v[2] for v in X_train]\n",
    "             }).to_csv(f'{REPO_PATH}/dataset/train_videofolder.txt', header=False, index=False)"
   ]
  },
  {
   "cell_type": "code",
   "execution_count": 13,
   "metadata": {},
   "outputs": [],
   "source": [
    "pd.DataFrame({'a': [v[0] for v in X_test],\n",
    "              'b': [v[1] for v in X_test],\n",
    "              'c': [v[2] for v in X_test]\n",
    "             }).to_csv(f'{REPO_PATH}/dataset/val_videofolder.txt', header=False, index=False)"
   ]
  },
  {
   "cell_type": "code",
   "execution_count": null,
   "metadata": {},
   "outputs": [],
   "source": []
  }
 ],
 "metadata": {
  "kernelspec": {
   "display_name": "Python 3",
   "language": "python",
   "name": "python3"
  },
  "language_info": {
   "codemirror_mode": {
    "name": "ipython",
    "version": 3
   },
   "file_extension": ".py",
   "mimetype": "text/x-python",
   "name": "python",
   "nbconvert_exporter": "python",
   "pygments_lexer": "ipython3",
   "version": "3.6.1"
  }
 },
 "nbformat": 4,
 "nbformat_minor": 2
}
