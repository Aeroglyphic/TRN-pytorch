{
 "cells": [
  {
   "cell_type": "code",
   "execution_count": 9,
   "metadata": {},
   "outputs": [
    {
     "name": "stdout",
     "output_type": "stream",
     "text": [
      "\n",
      "[MoviePy] Building file tmp_media/2vsx3WK8jppXSDrb5t_original.gif with imageio\n"
     ]
    },
    {
     "name": "stderr",
     "output_type": "stream",
     "text": [
      "100%|██████████| 94/94 [00:10<00:00,  8.96it/s]\n"
     ]
    },
    {
     "name": "stdout",
     "output_type": "stream",
     "text": [
      "\n",
      "[MoviePy] Building file tmp_media/2vsx3WK8jppXSDrb5t_aug.gif with imageio\n"
     ]
    },
    {
     "name": "stderr",
     "output_type": "stream",
     "text": [
      "100%|██████████| 94/94 [00:06<00:00, 15.30it/s]\n"
     ]
    },
    {
     "data": {
      "text/html": [
       "<img src=\"tmp_media/2vsx3WK8jppXSDrb5t_original.gif\">"
      ],
      "text/plain": [
       "<IPython.core.display.HTML object>"
      ]
     },
     "metadata": {},
     "output_type": "display_data"
    },
    {
     "data": {
      "text/html": [
       "<img src=\"tmp_media/2vsx3WK8jppXSDrb5t_aug.gif\">"
      ],
      "text/plain": [
       "<IPython.core.display.HTML object>"
      ]
     },
     "metadata": {},
     "output_type": "display_data"
    },
    {
     "name": "stdout",
     "output_type": "stream",
     "text": [
      "\n",
      "[MoviePy] Building file tmp_media/10002IKKbthZzG_original.gif with imageio\n"
     ]
    },
    {
     "name": "stderr",
     "output_type": "stream",
     "text": [
      "100%|██████████| 114/114 [00:06<00:00, 17.01it/s]\n"
     ]
    },
    {
     "name": "stdout",
     "output_type": "stream",
     "text": [
      "\n",
      "[MoviePy] Building file tmp_media/10002IKKbthZzG_aug.gif with imageio\n"
     ]
    },
    {
     "name": "stderr",
     "output_type": "stream",
     "text": [
      "100%|██████████| 114/114 [00:06<00:00, 18.65it/s]\n"
     ]
    },
    {
     "data": {
      "text/html": [
       "<img src=\"tmp_media/10002IKKbthZzG_original.gif\">"
      ],
      "text/plain": [
       "<IPython.core.display.HTML object>"
      ]
     },
     "metadata": {},
     "output_type": "display_data"
    },
    {
     "data": {
      "text/html": [
       "<img src=\"tmp_media/10002IKKbthZzG_aug.gif\">"
      ],
      "text/plain": [
       "<IPython.core.display.HTML object>"
      ]
     },
     "metadata": {},
     "output_type": "display_data"
    }
   ],
   "source": [
    "import glob\n",
    "import random\n",
    "from vidaug import augmentors as va  # pip3 install git+https://github.com/okankop/vidaug --user\n",
    "from PIL import Image\n",
    "import hashlib\n",
    "import os\n",
    "import shutil\n",
    "from moviepy.editor import ImageSequenceClip\n",
    "from IPython.core.display import display, HTML\n",
    "\n",
    "\n",
    "tmp_dir = 'tmp_media/'\n",
    "shutil.rmtree(tmp_dir)\n",
    "os.mkdir(tmp_dir)\n",
    "\n",
    "\n",
    "class RGB2Gray(object):\n",
    "    def __call__(self, clip):\n",
    "        return [x.convert('L').convert('RGB') for x in clip]\n",
    "\n",
    "\n",
    "def augmentation(prob=0.5, N=4, random_order=True):\n",
    "    sometimes = lambda aug: va.Sometimes(prob, aug) # Used to apply augmentor with 50% probability\n",
    "    return va.Sequential([\n",
    "        va.SomeOf(\n",
    "        [\n",
    "            sometimes(va.GaussianBlur(sigma=3.0)),\n",
    "            sometimes(va.ElasticTransformation(alpha=3.5, sigma=0.25)),\n",
    "            sometimes(va.PiecewiseAffineTransform(displacement=5, displacement_kernel=1, displacement_magnification=1)),\n",
    "            sometimes(va.RandomRotate(degrees=10)),\n",
    "            sometimes(va.RandomResize(0.5)),\n",
    "            sometimes(va.RandomTranslate(x=20, y=20)),\n",
    "            sometimes(va.RandomShear(x=0.2, y=0.2)),\n",
    "            # RandomCrop???\n",
    "            sometimes(va.InvertColor()),\n",
    "            sometimes(va.Add(100)),\n",
    "            sometimes(va.Multiply(1.2)),\n",
    "            sometimes(va.Pepper()),\n",
    "            sometimes(va.Salt()),\n",
    "            sometimes(va.HorizontalFlip()),\n",
    "#             sometimes(va.Downsample(0.8)),\n",
    "#             sometimes(va.Upsample(1.2)),\n",
    "            sometimes(va.TemporalElasticTransformation()),\n",
    "            sometimes(RGB2Gray())\n",
    "        ],\n",
    "        N=N,\n",
    "        random_order=random_order\n",
    "    )]) \n",
    "\n",
    "\n",
    "def save_images(images):\n",
    "    image_paths = []\n",
    "    for x in images:\n",
    "        hashdigest = hashlib.md5(x.tobytes()).hexdigest()\n",
    "        image_path = os.path.join(tmp_dir, f'{hashdigest}.jpg')\n",
    "        x.save(image_path)\n",
    "        image_paths.append(image_path)\n",
    "    return image_paths\n",
    "\n",
    "\n",
    "def load_batch(gif_id):\n",
    "    image_paths = glob.glob(f'/home/ec2-user/mnt/giphy_dataset/{gif_id}/*.jpg')\n",
    "    image_paths = sorted(image_paths, key=lambda x: int(x.split('/')[-1].split('.jpg')[0]))\n",
    "    images = [Image.open(x) for x in image_paths]\n",
    "    return images, save_images(images)\n",
    "\n",
    "\n",
    "seq = augmentation()\n",
    "videos = []\n",
    "video_augs = []\n",
    "for gif_id in ['2vsx3WK8jppXSDrb5t', '10002IKKbthZzG']:\n",
    "    images, paths = load_batch(gif_id)\n",
    "    if len(images) == 0:\n",
    "        continue\n",
    "    aug_images = seq(images)\n",
    "    aug_paths = save_images(aug_images)\n",
    "    \n",
    "    original_clip = ImageSequenceClip(paths, fps=25)\n",
    "    original_path = os.path.join(tmp_dir, f'{gif_id}_original.gif')\n",
    "    original_clip.write_gif(original_path)\n",
    "    \n",
    "    aug_clip = ImageSequenceClip(aug_paths, fps=25)\n",
    "    aug_path = os.path.join(tmp_dir, f'{gif_id}_aug.gif')\n",
    "    aug_clip.write_gif(aug_path)\n",
    "    display(HTML(f'<img src=\"tmp_media/{gif_id}_original.gif\">'))\n",
    "    display(HTML(f'<img src=\"tmp_media/{gif_id}_aug.gif\">'))"
   ]
  },
  {
   "cell_type": "code",
   "execution_count": null,
   "metadata": {},
   "outputs": [],
   "source": []
  }
 ],
 "metadata": {
  "kernelspec": {
   "display_name": "Python 3",
   "language": "python",
   "name": "python3"
  },
  "language_info": {
   "codemirror_mode": {
    "name": "ipython",
    "version": 3
   },
   "file_extension": ".py",
   "mimetype": "text/x-python",
   "name": "python",
   "nbconvert_exporter": "python",
   "pygments_lexer": "ipython3",
   "version": "3.7.0rc1"
  }
 },
 "nbformat": 4,
 "nbformat_minor": 2
}
