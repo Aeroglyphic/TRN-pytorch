{
 "cells": [
  {
   "cell_type": "code",
   "execution_count": 1,
   "metadata": {},
   "outputs": [
    {
     "name": "stdout",
     "output_type": "stream",
     "text": [
      "Multi-Scale Temporal Relation Network Module in use ['8-frame relation', '7-frame relation', '6-frame relation', '5-frame relation', '4-frame relation', '3-frame relation', '2-frame relation']\n",
      "Freezing BatchNorm2D except the first one.\n"
     ]
    }
   ],
   "source": [
    "import os\n",
    "\n",
    "import torch\n",
    "\n",
    "from PIL import Image\n",
    "import moviepy.editor as mpy\n",
    "\n",
    "from torch.nn import functional as F\n",
    "from torch.autograd import Variable\n",
    "from math import ceil\n",
    "from models import TSN\n",
    "import torchvision\n",
    "from transforms import *\n",
    "\n",
    "# Get dataset categories.\n",
    "import pandas as pd\n",
    "categories = pd.read_csv('/home/ec2-user/mnt/giphy_dataset/category.txt', header=None)[0]\n",
    "num_class = len(categories)\n",
    "\n",
    "\n",
    "def load_model(useGPU=True):\n",
    "    model = TSN(num_class,\n",
    "              8,\n",
    "              'RGB',\n",
    "              base_model='InceptionV3',\n",
    "              consensus_type='TRNmultiscale',\n",
    "              img_feature_dim=256, print_spec=False)\n",
    "    \n",
    "    weight_file = '/home/ec2-user/gif-recommendations/model_train/trn_moments_model/trn_pytorch/model/TRN_custom_RGB_InceptionV3_TRNmultiscale_segment8_checkpoint.pth.tar'\n",
    "    \n",
    "    if useGPU:\n",
    "        model = model.cuda()\n",
    "        checkpoint = torch.load(weight_file)\n",
    "    else:\n",
    "        checkpoint = torch.load(weight_file, map_location=lambda storage,\n",
    "                                loc: storage)  # allow cpu\n",
    "\n",
    "    base_dict = {'.'.join(k.split('.')[1:]): v for k, v in list(checkpoint['state_dict'].items())}\n",
    "    model.load_state_dict(base_dict)\n",
    "    model.eval()\n",
    "    \n",
    "    for p in model.parameters():\n",
    "        p.requires_grad = False\n",
    "    \n",
    "    return model\n",
    "\n",
    "\n",
    "def load_transform():\n",
    "    \"\"\"Load the image transformer.\"\"\"\n",
    "    transform = torchvision.transforms.Compose([\n",
    "        torchvision.transforms.Lambda(lambda frames: [Image.fromarray(x) for x in frames]),\n",
    "        GroupOverSample(model.input_size, model.scale_size),\n",
    "        Stack(roll=True),\n",
    "        ToTorchFormatTensor(div=False),\n",
    "        GroupNormalize(model.input_mean, model.input_std),\n",
    "    ])\n",
    "    return transform\n",
    "\n",
    "    \n",
    "TOP_K = 5\n",
    "\n",
    "def evenly_spaced_sampling(array, n):\n",
    "    \"\"\"Choose `n` evenly spaced elements from `array` sequence\"\"\"\n",
    "    length = len(array)\n",
    "    if n == 0 or length == 0:\n",
    "        return []\n",
    "    if n > length:\n",
    "        n = length\n",
    "    return [array[ceil(i * length / n)] for i in range(n)]\n",
    "\n",
    "def display_gif(gif_id):\n",
    "    from IPython import display\n",
    "    return display.HTML(\"<img src='https://media.giphy.com/media/{}/giphy.gif'>\".format(gif_id))\n",
    "\n",
    "# Get dataset categories\n",
    "model = load_model(useGPU=True)\n",
    "\n",
    "# Load the video frame transform\n",
    "transform = load_transform()\n",
    "\n",
    "def process_gif(gif_id, model=model, categories=categories, transform=transform, samples_num=8):\n",
    "    gif = mpy.VideoFileClip(f'https://media.giphy.com/media/{gif_id}/giphy.mp4')\n",
    "    frames = evenly_spaced_sampling(list(gif.iter_frames()), samples_num)\n",
    "    del gif\n",
    "    \n",
    "    data = transform(frames)\n",
    "    with torch.no_grad():\n",
    "        input_var = torch.autograd.Variable(data.view(-1, 3, data.size(1), data.size(2))).unsqueeze(0).cuda()\n",
    "    \n",
    "        # Make video prediction\n",
    "        logits = model(input_var)\n",
    "        h_x = torch.mean(F.softmax(logits, 1), dim=0).data\n",
    "        probs, idx = h_x.sort(0, True)\n",
    "    \n",
    "    for i in range(TOP_K):\n",
    "        print(f'{probs[i]:.8f} -> {categories[idx[i]]}')\n",
    "    idx_np = idx.cpu().data.numpy()\n",
    "    probs_np = probs.cpu().data.numpy()\n",
    "    predictions = [[idx_np[i], probs_np[i]] for i in range(TOP_K)]\n",
    "    return predictions"
   ]
  },
  {
   "cell_type": "code",
   "execution_count": 2,
   "metadata": {},
   "outputs": [
    {
     "name": "stdout",
     "output_type": "stream",
     "text": [
      "['smh', 'love', 'thumbs-up', 'ok', 'good-luck', 'disappointed', 'sorry', 'hi', 'animals', 'hello', 'angry', 'shocked', 'shrug', 'yay', 'popcorn', 'mind-blown', 'happy', 'thank-you', 'smile', 'dislike', 'k', 'shake-head', 'facepalm', 'shame', 'bored', 'eye-roll', 'party', 'yes', 'hot', 'sad', 'confused', 'lol', 'dancing', 'congratulations', 'nope', 'what', 'waiting', 'hug', 'laughing', 'classics', 'mad', 'whatever', 'omg', 'why', 'wow', 'do-want', 'like', 'bye', 'celebration', 'thanks', 'excited', 'scared', 'tired', 'applause', 'flirting', 'wtf', 'youre-welcome', 'dance', 'good-job', 'high-five', 'no', 'crying']\n"
     ]
    }
   ],
   "source": [
    "print(list(categories))"
   ]
  },
  {
   "cell_type": "code",
   "execution_count": 3,
   "metadata": {},
   "outputs": [
    {
     "name": "stdout",
     "output_type": "stream",
     "text": [
      "0.99661732 -> what\n",
      "0.00172772 -> flirting\n",
      "0.00042690 -> shocked\n",
      "0.00040669 -> shame\n",
      "0.00029753 -> classics\n"
     ]
    },
    {
     "data": {
      "text/html": [
       "<img src='https://media.giphy.com/media/yZ2FSn86bf2co/giphy.gif'>"
      ],
      "text/plain": [
       "<IPython.core.display.HTML object>"
      ]
     },
     "execution_count": 3,
     "metadata": {},
     "output_type": "execute_result"
    }
   ],
   "source": [
    "gifId = 'yZ2FSn86bf2co' # paste your gifId here\n",
    "process_gif(gifId)\n",
    "display_gif(gifId)"
   ]
  },
  {
   "cell_type": "code",
   "execution_count": null,
   "metadata": {},
   "outputs": [],
   "source": []
  }
 ],
 "metadata": {
  "kernelspec": {
   "display_name": "Python 3",
   "language": "python",
   "name": "python3"
  },
  "language_info": {
   "codemirror_mode": {
    "name": "ipython",
    "version": 3
   },
   "file_extension": ".py",
   "mimetype": "text/x-python",
   "name": "python",
   "nbconvert_exporter": "python",
   "pygments_lexer": "ipython3",
   "version": "3.7.0rc1"
  }
 },
 "nbformat": 4,
 "nbformat_minor": 2
}
