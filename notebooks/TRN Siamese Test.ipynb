{
 "cells": [
  {
   "cell_type": "code",
   "execution_count": 1,
   "metadata": {},
   "outputs": [
    {
     "name": "stdout",
     "output_type": "stream",
     "text": [
      "Multi-Scale Temporal Relation Network Module in use ['8-frame relation', '7-frame relation', '6-frame relation', '5-frame relation', '4-frame relation', '3-frame relation', '2-frame relation']\n",
      "Freezing BatchNorm2D except the first one.\n",
      "Freezing BatchNorm2D except the first one.\n"
     ]
    }
   ],
   "source": [
    "import os\n",
    "\n",
    "import torch\n",
    "\n",
    "from PIL import Image\n",
    "import moviepy.editor as mpy\n",
    "from IPython.core.display import display, HTML\n",
    "\n",
    "from torch.nn import functional as F\n",
    "from torch.autograd import Variable\n",
    "from math import ceil\n",
    "from models import TSN\n",
    "import torchvision\n",
    "from transforms import *\n",
    "from sklearn.metrics.pairwise import cosine_distances\n",
    "from sklearn.metrics import euclidean_distances\n",
    "import torch.nn.functional as F\n",
    "\n",
    "\n",
    "def load_model(useGPU=True):\n",
    "    model = TSN(64,\n",
    "              8,\n",
    "              'RGB',\n",
    "              base_model='InceptionV3',\n",
    "              consensus_type='TRNmultiscale',\n",
    "              img_feature_dim=256, print_spec=False)\n",
    "    \n",
    "    weight_file = '/home/ec2-user/gif-recommendations/model_train/trn_moments_model/trn_pytorch/model/TRN_custom_RGB_InceptionV3_TRNmultiscale_segment8_best.pth.tar'\n",
    "    \n",
    "    if useGPU:\n",
    "        model = model.cuda()\n",
    "        checkpoint = torch.load(weight_file)\n",
    "    else:\n",
    "        checkpoint = torch.load(weight_file, map_location=lambda storage,\n",
    "                                loc: storage)  # allow cpu\n",
    "\n",
    "    base_dict = {'.'.join(k.split('.')[1:]): v for k, v in list(checkpoint['state_dict'].items())}\n",
    "    model.load_state_dict(base_dict)\n",
    "    model.eval()\n",
    "    model.train(False)\n",
    "    \n",
    "    for p in model.parameters():\n",
    "        p.requires_grad = False\n",
    "    \n",
    "    return model\n",
    "\n",
    "\n",
    "def load_transform():\n",
    "    \"\"\"Load the image transformer.\"\"\"\n",
    "    transform = torchvision.transforms.Compose([\n",
    "        torchvision.transforms.Lambda(lambda frames: [Image.fromarray(x) for x in frames]),\n",
    "        GroupOverSample(model.input_size, model.scale_size),\n",
    "        Stack(roll=True),\n",
    "        ToTorchFormatTensor(div=False),\n",
    "        GroupNormalize(model.input_mean, model.input_std),\n",
    "    ])\n",
    "    return transform\n",
    "\n",
    "def evenly_spaced_sampling(array, n):\n",
    "    \"\"\"Choose `n` evenly spaced elements from `array` sequence\"\"\"\n",
    "    length = len(array)\n",
    "\n",
    "    if n == 0 or length == 0:\n",
    "        return []\n",
    "    elif n == length:\n",
    "        return array\n",
    "    elif n < length:\n",
    "        return [array[ceil(i * length / n)] for i in range(n)]\n",
    "    elif n > length:\n",
    "        result = []\n",
    "        for _ in range(ceil(n / length)):\n",
    "            result.extend(array)\n",
    "        return result[:n]\n",
    "\n",
    "\n",
    "model = load_model(useGPU=True)\n",
    "\n",
    "# Load the video frame transform\n",
    "transform = load_transform()\n",
    "\n",
    "def process_gif(gif_id, model=model, transform=transform, samples_num=8):\n",
    "    gif = mpy.VideoFileClip(f'https://media.giphy.com/media/{gif_id}/giphy.mp4')\n",
    "    frames = evenly_spaced_sampling(list(gif.iter_frames()), samples_num)\n",
    "    del gif\n",
    "    \n",
    "    data = transform(frames)\n",
    "    with torch.no_grad():\n",
    "        input_var = torch.autograd.Variable(data.view(-1, 3, data.size(1), data.size(2))).unsqueeze(0).cuda()\n",
    "    \n",
    "        # Make video prediction\n",
    "        logits = model(input_var)\n",
    "        return logits.cpu().data.mean(dim=0, keepdim=True)\n",
    "    \n",
    "def display_gifs(gif_ids, width=150, height_pct=100):\n",
    "    display(HTML(f\"\"\"\n",
    "        <div style='display: flex; flex-wrap: wrap;'>\n",
    "            {''.join(f\"<a href={get_gif_url(x)} style='width: {width}px; height: {height_pct}%; margin: 5px'><img src={get_gif_url(x)} alt={x} /></a>\" for x in gif_ids)}\n",
    "        </div>\n",
    "    \"\"\"))\n",
    "    \n",
    "def get_gif_url(id, ext='gif'):\n",
    "    return f'https://media.giphy.com/media/{id}/giphy.{ext}'"
   ]
  },
  {
   "cell_type": "code",
   "execution_count": 2,
   "metadata": {},
   "outputs": [],
   "source": [
    "def distance(v1, v2):\n",
    "    return F.pairwise_distance(v1, v2).squeeze(0)[0]\n",
    "\n",
    "def analyze_pair(gif1, gif2):\n",
    "    display_gifs([gif1, gif2])\n",
    "    embedding1 = process_gif(gif1)\n",
    "    embedding2 = process_gif(gif2)\n",
    "    return distance(embedding1, embedding2)"
   ]
  },
  {
   "cell_type": "code",
   "execution_count": 8,
   "metadata": {},
   "outputs": [],
   "source": [
    "import pickle\n",
    "\n",
    "dataset = pickle.load(open('/home/ec2-user/siamese_dataset.pkl', 'rb'))"
   ]
  },
  {
   "cell_type": "code",
   "execution_count": 9,
   "metadata": {},
   "outputs": [
    {
     "data": {
      "text/plain": [
       "[{'26ooAPkP9FPqk6e9s1', '65R4yT6qwFcBI6WAn4'},\n",
       " {'4ryp9Ihw0BEyc', 'XOY5y7YXjTD7q'},\n",
       " {'3oEduUQtEx8YEdQ2w8', 'jTHJsHfVypYl3iLBHC'},\n",
       " {'3oKGzayyPJGE7xuytO', 'l4FszqrMzZpWs1ZMQ'},\n",
       " {'8ifa9TRWaiqNG', 'YlEMMJMwAeaPK', 'jrU2YGXXZOiJO'},\n",
       " {'DhyveKEG12Vi0', 'XfrQAetZuPeN2'},\n",
       " {'Tu96GNA7BH5T2', 'dAS5aQ5mbA6o8'},\n",
       " {'CjNifqd0JIgV6biOjK', 'XumwweOEq89ZS'},\n",
       " {'3o6vY4wVYwGuosjJHW', 'xT39D66wnoy8uUvkkg'},\n",
       " {'NSGAQbgnFbph5wybNX', 'l1VUuoQB6wkX4cQSW5'}]"
      ]
     },
     "execution_count": 9,
     "metadata": {},
     "output_type": "execute_result"
    }
   ],
   "source": [
    "dataset[:10]"
   ]
  },
  {
   "cell_type": "code",
   "execution_count": 9,
   "metadata": {},
   "outputs": [],
   "source": [
    "embeddings = []\n",
    "\n",
    "for i, gifs in enumerate(dataset):\n",
    "    embeddings.append([process_gif(x) for x in gifs])"
   ]
  },
  {
   "cell_type": "code",
   "execution_count": 21,
   "metadata": {},
   "outputs": [],
   "source": [
    "distances = []\n",
    "for x in embeddings:\n",
    "    matrix = cosine_distances(x, x)\n",
    "    i, j = np.triu_indices(matrix.shape[0], 1)\n",
    "    top_triangle = matrix[i, j]\n",
    "    distances.append(top_triangle)"
   ]
  },
  {
   "cell_type": "code",
   "execution_count": 22,
   "metadata": {},
   "outputs": [
    {
     "data": {
      "text/plain": [
       "<matplotlib.axes._subplots.AxesSubplot at 0x7f574139de80>"
      ]
     },
     "execution_count": 22,
     "metadata": {},
     "output_type": "execute_result"
    },
    {
     "data": {
      "image/png": "[encoded data removed]",
      "text/plain": [
       "<Figure size 432x288 with 1 Axes>"
      ]
     },
     "metadata": {
      "needs_background": "light"
     },
     "output_type": "display_data"
    }
   ],
   "source": [
    "import pandas as pd\n",
    "pd.Series([x * 10000 for matr in distances for x in matr if x * 10000 < 0.05]).hist(bins=40)"
   ]
  },
  {
   "cell_type": "code",
   "execution_count": 23,
   "metadata": {},
   "outputs": [],
   "source": [
    "import random\n",
    "\n",
    "distances = []\n",
    "for x in range(500):\n",
    "    a, b = random.sample(embeddings, 2)\n",
    "    vector1, vector2 = random.choice(a), random.choice(b)\n",
    "    dist = distance(vector1, vector2)\n",
    "    distances.append(dist)"
   ]
  },
  {
   "cell_type": "code",
   "execution_count": 25,
   "metadata": {},
   "outputs": [
    {
     "data": {
      "text/plain": [
       "<matplotlib.axes._subplots.AxesSubplot at 0x7f574121cac8>"
      ]
     },
     "execution_count": 25,
     "metadata": {},
     "output_type": "execute_result"
    },
    {
     "data": {
      "image/png": "[encoded data removed]",
      "text/plain": [
       "<Figure size 432x288 with 1 Axes>"
      ]
     },
     "metadata": {
      "needs_background": "light"
     },
     "output_type": "display_data"
    }
   ],
   "source": [
    "pd.Series([x * 10000 for x in distances]).hist(bins=40)"
   ]
  },
  {
   "cell_type": "code",
   "execution_count": 14,
   "metadata": {},
   "outputs": [
    {
     "data": {
      "text/html": [
       "\n",
       "        <div style='display: flex; flex-wrap: wrap;'>\n",
       "            <a href=https://media.giphy.com/media/65R4yT6qwFcBI6WAn4/giphy.gif style='width: 150px; height: 100%; margin: 5px'><img src=https://media.giphy.com/media/65R4yT6qwFcBI6WAn4/giphy.gif alt=65R4yT6qwFcBI6WAn4 /></a><a href=https://media.giphy.com/media/26ooAPkP9FPqk6e9s1/giphy.gif style='width: 150px; height: 100%; margin: 5px'><img src=https://media.giphy.com/media/26ooAPkP9FPqk6e9s1/giphy.gif alt=26ooAPkP9FPqk6e9s1 /></a>\n",
       "        </div>\n",
       "    "
      ],
      "text/plain": [
       "<IPython.core.display.HTML object>"
      ]
     },
     "metadata": {},
     "output_type": "display_data"
    },
    {
     "name": "stdout",
     "output_type": "stream",
     "text": [
      "tensor(0.0719)\n"
     ]
    },
    {
     "data": {
      "text/html": [
       "\n",
       "        <div style='display: flex; flex-wrap: wrap;'>\n",
       "            <a href=https://media.giphy.com/media/4ryp9Ihw0BEyc/giphy.gif style='width: 150px; height: 100%; margin: 5px'><img src=https://media.giphy.com/media/4ryp9Ihw0BEyc/giphy.gif alt=4ryp9Ihw0BEyc /></a><a href=https://media.giphy.com/media/XOY5y7YXjTD7q/giphy.gif style='width: 150px; height: 100%; margin: 5px'><img src=https://media.giphy.com/media/XOY5y7YXjTD7q/giphy.gif alt=XOY5y7YXjTD7q /></a>\n",
       "        </div>\n",
       "    "
      ],
      "text/plain": [
       "<IPython.core.display.HTML object>"
      ]
     },
     "metadata": {},
     "output_type": "display_data"
    },
    {
     "name": "stdout",
     "output_type": "stream",
     "text": [
      "tensor(0.1312)\n"
     ]
    },
    {
     "data": {
      "text/html": [
       "\n",
       "        <div style='display: flex; flex-wrap: wrap;'>\n",
       "            <a href=https://media.giphy.com/media/jTHJsHfVypYl3iLBHC/giphy.gif style='width: 150px; height: 100%; margin: 5px'><img src=https://media.giphy.com/media/jTHJsHfVypYl3iLBHC/giphy.gif alt=jTHJsHfVypYl3iLBHC /></a><a href=https://media.giphy.com/media/3oEduUQtEx8YEdQ2w8/giphy.gif style='width: 150px; height: 100%; margin: 5px'><img src=https://media.giphy.com/media/3oEduUQtEx8YEdQ2w8/giphy.gif alt=3oEduUQtEx8YEdQ2w8 /></a>\n",
       "        </div>\n",
       "    "
      ],
      "text/plain": [
       "<IPython.core.display.HTML object>"
      ]
     },
     "metadata": {},
     "output_type": "display_data"
    },
    {
     "name": "stdout",
     "output_type": "stream",
     "text": [
      "tensor(0.0918)\n"
     ]
    },
    {
     "data": {
      "text/html": [
       "\n",
       "        <div style='display: flex; flex-wrap: wrap;'>\n",
       "            <a href=https://media.giphy.com/media/l4FszqrMzZpWs1ZMQ/giphy.gif style='width: 150px; height: 100%; margin: 5px'><img src=https://media.giphy.com/media/l4FszqrMzZpWs1ZMQ/giphy.gif alt=l4FszqrMzZpWs1ZMQ /></a><a href=https://media.giphy.com/media/3oKGzayyPJGE7xuytO/giphy.gif style='width: 150px; height: 100%; margin: 5px'><img src=https://media.giphy.com/media/3oKGzayyPJGE7xuytO/giphy.gif alt=3oKGzayyPJGE7xuytO /></a>\n",
       "        </div>\n",
       "    "
      ],
      "text/plain": [
       "<IPython.core.display.HTML object>"
      ]
     },
     "metadata": {},
     "output_type": "display_data"
    },
    {
     "name": "stdout",
     "output_type": "stream",
     "text": [
      "tensor(0.1412)\n"
     ]
    },
    {
     "data": {
      "text/html": [
       "\n",
       "        <div style='display: flex; flex-wrap: wrap;'>\n",
       "            <a href=https://media.giphy.com/media/YlEMMJMwAeaPK/giphy.gif style='width: 150px; height: 100%; margin: 5px'><img src=https://media.giphy.com/media/YlEMMJMwAeaPK/giphy.gif alt=YlEMMJMwAeaPK /></a><a href=https://media.giphy.com/media/jrU2YGXXZOiJO/giphy.gif style='width: 150px; height: 100%; margin: 5px'><img src=https://media.giphy.com/media/jrU2YGXXZOiJO/giphy.gif alt=jrU2YGXXZOiJO /></a>\n",
       "        </div>\n",
       "    "
      ],
      "text/plain": [
       "<IPython.core.display.HTML object>"
      ]
     },
     "metadata": {},
     "output_type": "display_data"
    },
    {
     "name": "stdout",
     "output_type": "stream",
     "text": [
      "tensor(0.2095)\n"
     ]
    },
    {
     "data": {
      "text/html": [
       "\n",
       "        <div style='display: flex; flex-wrap: wrap;'>\n",
       "            <a href=https://media.giphy.com/media/XfrQAetZuPeN2/giphy.gif style='width: 150px; height: 100%; margin: 5px'><img src=https://media.giphy.com/media/XfrQAetZuPeN2/giphy.gif alt=XfrQAetZuPeN2 /></a><a href=https://media.giphy.com/media/DhyveKEG12Vi0/giphy.gif style='width: 150px; height: 100%; margin: 5px'><img src=https://media.giphy.com/media/DhyveKEG12Vi0/giphy.gif alt=DhyveKEG12Vi0 /></a>\n",
       "        </div>\n",
       "    "
      ],
      "text/plain": [
       "<IPython.core.display.HTML object>"
      ]
     },
     "metadata": {},
     "output_type": "display_data"
    },
    {
     "name": "stdout",
     "output_type": "stream",
     "text": [
      "tensor(0.0434)\n"
     ]
    },
    {
     "data": {
      "text/html": [
       "\n",
       "        <div style='display: flex; flex-wrap: wrap;'>\n",
       "            <a href=https://media.giphy.com/media/Tu96GNA7BH5T2/giphy.gif style='width: 150px; height: 100%; margin: 5px'><img src=https://media.giphy.com/media/Tu96GNA7BH5T2/giphy.gif alt=Tu96GNA7BH5T2 /></a><a href=https://media.giphy.com/media/dAS5aQ5mbA6o8/giphy.gif style='width: 150px; height: 100%; margin: 5px'><img src=https://media.giphy.com/media/dAS5aQ5mbA6o8/giphy.gif alt=dAS5aQ5mbA6o8 /></a>\n",
       "        </div>\n",
       "    "
      ],
      "text/plain": [
       "<IPython.core.display.HTML object>"
      ]
     },
     "metadata": {},
     "output_type": "display_data"
    },
    {
     "name": "stdout",
     "output_type": "stream",
     "text": [
      "tensor(0.1969)\n"
     ]
    },
    {
     "data": {
      "text/html": [
       "\n",
       "        <div style='display: flex; flex-wrap: wrap;'>\n",
       "            <a href=https://media.giphy.com/media/XumwweOEq89ZS/giphy.gif style='width: 150px; height: 100%; margin: 5px'><img src=https://media.giphy.com/media/XumwweOEq89ZS/giphy.gif alt=XumwweOEq89ZS /></a><a href=https://media.giphy.com/media/CjNifqd0JIgV6biOjK/giphy.gif style='width: 150px; height: 100%; margin: 5px'><img src=https://media.giphy.com/media/CjNifqd0JIgV6biOjK/giphy.gif alt=CjNifqd0JIgV6biOjK /></a>\n",
       "        </div>\n",
       "    "
      ],
      "text/plain": [
       "<IPython.core.display.HTML object>"
      ]
     },
     "metadata": {},
     "output_type": "display_data"
    },
    {
     "name": "stdout",
     "output_type": "stream",
     "text": [
      "tensor(0.0633)\n"
     ]
    },
    {
     "data": {
      "text/html": [
       "\n",
       "        <div style='display: flex; flex-wrap: wrap;'>\n",
       "            <a href=https://media.giphy.com/media/3o6vY4wVYwGuosjJHW/giphy.gif style='width: 150px; height: 100%; margin: 5px'><img src=https://media.giphy.com/media/3o6vY4wVYwGuosjJHW/giphy.gif alt=3o6vY4wVYwGuosjJHW /></a><a href=https://media.giphy.com/media/xT39D66wnoy8uUvkkg/giphy.gif style='width: 150px; height: 100%; margin: 5px'><img src=https://media.giphy.com/media/xT39D66wnoy8uUvkkg/giphy.gif alt=xT39D66wnoy8uUvkkg /></a>\n",
       "        </div>\n",
       "    "
      ],
      "text/plain": [
       "<IPython.core.display.HTML object>"
      ]
     },
     "metadata": {},
     "output_type": "display_data"
    },
    {
     "name": "stdout",
     "output_type": "stream",
     "text": [
      "tensor(0.1348)\n"
     ]
    },
    {
     "data": {
      "text/html": [
       "\n",
       "        <div style='display: flex; flex-wrap: wrap;'>\n",
       "            <a href=https://media.giphy.com/media/NSGAQbgnFbph5wybNX/giphy.gif style='width: 150px; height: 100%; margin: 5px'><img src=https://media.giphy.com/media/NSGAQbgnFbph5wybNX/giphy.gif alt=NSGAQbgnFbph5wybNX /></a><a href=https://media.giphy.com/media/l1VUuoQB6wkX4cQSW5/giphy.gif style='width: 150px; height: 100%; margin: 5px'><img src=https://media.giphy.com/media/l1VUuoQB6wkX4cQSW5/giphy.gif alt=l1VUuoQB6wkX4cQSW5 /></a>\n",
       "        </div>\n",
       "    "
      ],
      "text/plain": [
       "<IPython.core.display.HTML object>"
      ]
     },
     "metadata": {},
     "output_type": "display_data"
    },
    {
     "name": "stdout",
     "output_type": "stream",
     "text": [
      "tensor(0.4972)\n"
     ]
    }
   ],
   "source": [
    "for x in dataset[:10]:\n",
    "    a = analyze_pair(*list(x)[:2])\n",
    "    print(a)"
   ]
  },
  {
   "cell_type": "code",
   "execution_count": 15,
   "metadata": {},
   "outputs": [
    {
     "data": {
      "text/html": [
       "\n",
       "        <div style='display: flex; flex-wrap: wrap;'>\n",
       "            <a href=https://media.giphy.com/media/AJx6ScSohYJaM/giphy.gif style='width: 150px; height: 100%; margin: 5px'><img src=https://media.giphy.com/media/AJx6ScSohYJaM/giphy.gif alt=AJx6ScSohYJaM /></a><a href=https://media.giphy.com/media/le8bK2modNiVy/giphy.gif style='width: 150px; height: 100%; margin: 5px'><img src=https://media.giphy.com/media/le8bK2modNiVy/giphy.gif alt=le8bK2modNiVy /></a>\n",
       "        </div>\n",
       "    "
      ],
      "text/plain": [
       "<IPython.core.display.HTML object>"
      ]
     },
     "metadata": {},
     "output_type": "display_data"
    },
    {
     "name": "stdout",
     "output_type": "stream",
     "text": [
      "tensor(1.5497)\n"
     ]
    },
    {
     "data": {
      "text/html": [
       "\n",
       "        <div style='display: flex; flex-wrap: wrap;'>\n",
       "            <a href=https://media.giphy.com/media/l2Je6aWaPSBuBQ1IA/giphy.gif style='width: 150px; height: 100%; margin: 5px'><img src=https://media.giphy.com/media/l2Je6aWaPSBuBQ1IA/giphy.gif alt=l2Je6aWaPSBuBQ1IA /></a><a href=https://media.giphy.com/media/TFrZixUotj3WM/giphy.gif style='width: 150px; height: 100%; margin: 5px'><img src=https://media.giphy.com/media/TFrZixUotj3WM/giphy.gif alt=TFrZixUotj3WM /></a>\n",
       "        </div>\n",
       "    "
      ],
      "text/plain": [
       "<IPython.core.display.HTML object>"
      ]
     },
     "metadata": {},
     "output_type": "display_data"
    },
    {
     "name": "stdout",
     "output_type": "stream",
     "text": [
      "tensor(0.8045)\n"
     ]
    },
    {
     "data": {
      "text/html": [
       "\n",
       "        <div style='display: flex; flex-wrap: wrap;'>\n",
       "            <a href=https://media.giphy.com/media/iee0AS1H9Le7u/giphy.gif style='width: 150px; height: 100%; margin: 5px'><img src=https://media.giphy.com/media/iee0AS1H9Le7u/giphy.gif alt=iee0AS1H9Le7u /></a><a href=https://media.giphy.com/media/3o7btQ9OkygJOGIzWE/giphy.gif style='width: 150px; height: 100%; margin: 5px'><img src=https://media.giphy.com/media/3o7btQ9OkygJOGIzWE/giphy.gif alt=3o7btQ9OkygJOGIzWE /></a>\n",
       "        </div>\n",
       "    "
      ],
      "text/plain": [
       "<IPython.core.display.HTML object>"
      ]
     },
     "metadata": {},
     "output_type": "display_data"
    },
    {
     "name": "stdout",
     "output_type": "stream",
     "text": [
      "tensor(1.1329)\n"
     ]
    },
    {
     "data": {
      "text/html": [
       "\n",
       "        <div style='display: flex; flex-wrap: wrap;'>\n",
       "            <a href=https://media.giphy.com/media/3o6Zt1HGohqLXxcTgQ/giphy.gif style='width: 150px; height: 100%; margin: 5px'><img src=https://media.giphy.com/media/3o6Zt1HGohqLXxcTgQ/giphy.gif alt=3o6Zt1HGohqLXxcTgQ /></a><a href=https://media.giphy.com/media/mvz65LESCw9Ik/giphy.gif style='width: 150px; height: 100%; margin: 5px'><img src=https://media.giphy.com/media/mvz65LESCw9Ik/giphy.gif alt=mvz65LESCw9Ik /></a>\n",
       "        </div>\n",
       "    "
      ],
      "text/plain": [
       "<IPython.core.display.HTML object>"
      ]
     },
     "metadata": {},
     "output_type": "display_data"
    },
    {
     "name": "stdout",
     "output_type": "stream",
     "text": [
      "tensor(0.4412)\n"
     ]
    },
    {
     "data": {
      "text/html": [
       "\n",
       "        <div style='display: flex; flex-wrap: wrap;'>\n",
       "            <a href=https://media.giphy.com/media/QzD2oIckE8X5u/giphy.gif style='width: 150px; height: 100%; margin: 5px'><img src=https://media.giphy.com/media/QzD2oIckE8X5u/giphy.gif alt=QzD2oIckE8X5u /></a><a href=https://media.giphy.com/media/26BROPJ32cJ2ckS08/giphy.gif style='width: 150px; height: 100%; margin: 5px'><img src=https://media.giphy.com/media/26BROPJ32cJ2ckS08/giphy.gif alt=26BROPJ32cJ2ckS08 /></a>\n",
       "        </div>\n",
       "    "
      ],
      "text/plain": [
       "<IPython.core.display.HTML object>"
      ]
     },
     "metadata": {},
     "output_type": "display_data"
    },
    {
     "name": "stdout",
     "output_type": "stream",
     "text": [
      "tensor(1.3802)\n"
     ]
    },
    {
     "data": {
      "text/html": [
       "\n",
       "        <div style='display: flex; flex-wrap: wrap;'>\n",
       "            <a href=https://media.giphy.com/media/8NblQwZCmOMRq/giphy.gif style='width: 150px; height: 100%; margin: 5px'><img src=https://media.giphy.com/media/8NblQwZCmOMRq/giphy.gif alt=8NblQwZCmOMRq /></a><a href=https://media.giphy.com/media/9Y5BbDSkSTiY8/giphy.gif style='width: 150px; height: 100%; margin: 5px'><img src=https://media.giphy.com/media/9Y5BbDSkSTiY8/giphy.gif alt=9Y5BbDSkSTiY8 /></a>\n",
       "        </div>\n",
       "    "
      ],
      "text/plain": [
       "<IPython.core.display.HTML object>"
      ]
     },
     "metadata": {},
     "output_type": "display_data"
    },
    {
     "name": "stdout",
     "output_type": "stream",
     "text": [
      "tensor(1.9684)\n"
     ]
    },
    {
     "data": {
      "text/html": [
       "\n",
       "        <div style='display: flex; flex-wrap: wrap;'>\n",
       "            <a href=https://media.giphy.com/media/t4xmrMPrAkgnK/giphy.gif style='width: 150px; height: 100%; margin: 5px'><img src=https://media.giphy.com/media/t4xmrMPrAkgnK/giphy.gif alt=t4xmrMPrAkgnK /></a><a href=https://media.giphy.com/media/e7QoQBdHuBsUB1hhd0/giphy.gif style='width: 150px; height: 100%; margin: 5px'><img src=https://media.giphy.com/media/e7QoQBdHuBsUB1hhd0/giphy.gif alt=e7QoQBdHuBsUB1hhd0 /></a>\n",
       "        </div>\n",
       "    "
      ],
      "text/plain": [
       "<IPython.core.display.HTML object>"
      ]
     },
     "metadata": {},
     "output_type": "display_data"
    },
    {
     "name": "stdout",
     "output_type": "stream",
     "text": [
      "tensor(0.4568)\n"
     ]
    },
    {
     "data": {
      "text/html": [
       "\n",
       "        <div style='display: flex; flex-wrap: wrap;'>\n",
       "            <a href=https://media.giphy.com/media/L2CCWvJXFI0ik/giphy.gif style='width: 150px; height: 100%; margin: 5px'><img src=https://media.giphy.com/media/L2CCWvJXFI0ik/giphy.gif alt=L2CCWvJXFI0ik /></a><a href=https://media.giphy.com/media/aTj9Hc36wTBh6/giphy.gif style='width: 150px; height: 100%; margin: 5px'><img src=https://media.giphy.com/media/aTj9Hc36wTBh6/giphy.gif alt=aTj9Hc36wTBh6 /></a>\n",
       "        </div>\n",
       "    "
      ],
      "text/plain": [
       "<IPython.core.display.HTML object>"
      ]
     },
     "metadata": {},
     "output_type": "display_data"
    },
    {
     "name": "stdout",
     "output_type": "stream",
     "text": [
      "tensor(1.9606)\n"
     ]
    },
    {
     "data": {
      "text/html": [
       "\n",
       "        <div style='display: flex; flex-wrap: wrap;'>\n",
       "            <a href=https://media.giphy.com/media/1iTpx5PpzRugcrZK/giphy.gif style='width: 150px; height: 100%; margin: 5px'><img src=https://media.giphy.com/media/1iTpx5PpzRugcrZK/giphy.gif alt=1iTpx5PpzRugcrZK /></a><a href=https://media.giphy.com/media/xUA7aX6fNNnjqaZsAw/giphy.gif style='width: 150px; height: 100%; margin: 5px'><img src=https://media.giphy.com/media/xUA7aX6fNNnjqaZsAw/giphy.gif alt=xUA7aX6fNNnjqaZsAw /></a>\n",
       "        </div>\n",
       "    "
      ],
      "text/plain": [
       "<IPython.core.display.HTML object>"
      ]
     },
     "metadata": {},
     "output_type": "display_data"
    },
    {
     "name": "stdout",
     "output_type": "stream",
     "text": [
      "tensor(1.1573)\n"
     ]
    },
    {
     "data": {
      "text/html": [
       "\n",
       "        <div style='display: flex; flex-wrap: wrap;'>\n",
       "            <a href=https://media.giphy.com/media/YESRhUJfZtOZG/giphy.gif style='width: 150px; height: 100%; margin: 5px'><img src=https://media.giphy.com/media/YESRhUJfZtOZG/giphy.gif alt=YESRhUJfZtOZG /></a><a href=https://media.giphy.com/media/3o6ZsYdoT95Wr46Rag/giphy.gif style='width: 150px; height: 100%; margin: 5px'><img src=https://media.giphy.com/media/3o6ZsYdoT95Wr46Rag/giphy.gif alt=3o6ZsYdoT95Wr46Rag /></a>\n",
       "        </div>\n",
       "    "
      ],
      "text/plain": [
       "<IPython.core.display.HTML object>"
      ]
     },
     "metadata": {},
     "output_type": "display_data"
    },
    {
     "name": "stdout",
     "output_type": "stream",
     "text": [
      "tensor(0.8957)\n"
     ]
    }
   ],
   "source": [
    "for x in range(10):\n",
    "    a, b = random.sample(dataset, 2)\n",
    "    gif1, gif2 = random.choice(list(a)), random.choice(list(b))\n",
    "    a = analyze_pair(gif1, gif2)\n",
    "    print(a)"
   ]
  },
  {
   "cell_type": "code",
   "execution_count": 7,
   "metadata": {},
   "outputs": [
    {
     "data": {
      "text/html": [
       "\n",
       "        <div style='display: flex; flex-wrap: wrap;'>\n",
       "            <a href=https://media.giphy.com/media/26AHOLVWrGbM4zMys/giphy.gif style='width: 150px; height: 100%; margin: 5px'><img src=https://media.giphy.com/media/26AHOLVWrGbM4zMys/giphy.gif alt=26AHOLVWrGbM4zMys /></a><a href=https://media.giphy.com/media/l1J9ICtOvOG9XSaXK/giphy.gif style='width: 150px; height: 100%; margin: 5px'><img src=https://media.giphy.com/media/l1J9ICtOvOG9XSaXK/giphy.gif alt=l1J9ICtOvOG9XSaXK /></a>\n",
       "        </div>\n",
       "    "
      ],
      "text/plain": [
       "<IPython.core.display.HTML object>"
      ]
     },
     "metadata": {},
     "output_type": "display_data"
    },
    {
     "data": {
      "text/plain": [
       "tensor(1.1674)"
      ]
     },
     "execution_count": 7,
     "metadata": {},
     "output_type": "execute_result"
    }
   ],
   "source": [
    "analyze_pair('26AHOLVWrGbM4zMys', 'l1J9ICtOvOG9XSaXK')"
   ]
  },
  {
   "cell_type": "code",
   "execution_count": 6,
   "metadata": {},
   "outputs": [
    {
     "data": {
      "text/html": [
       "\n",
       "        <div style='display: flex; flex-wrap: wrap;'>\n",
       "            <a href=https://media.giphy.com/media/26ooAPkP9FPqk6e9s1/giphy.gif style='width: 150px; height: 100%; margin: 5px'><img src=https://media.giphy.com/media/26ooAPkP9FPqk6e9s1/giphy.gif alt=26ooAPkP9FPqk6e9s1 /></a><a href=https://media.giphy.com/media/l1J9ICtOvOG9XSaXK/giphy.gif style='width: 150px; height: 100%; margin: 5px'><img src=https://media.giphy.com/media/l1J9ICtOvOG9XSaXK/giphy.gif alt=l1J9ICtOvOG9XSaXK /></a>\n",
       "        </div>\n",
       "    "
      ],
      "text/plain": [
       "<IPython.core.display.HTML object>"
      ]
     },
     "metadata": {},
     "output_type": "display_data"
    },
    {
     "data": {
      "text/plain": [
       "tensor(0.6305)"
      ]
     },
     "execution_count": 6,
     "metadata": {},
     "output_type": "execute_result"
    }
   ],
   "source": [
    "analyze_pair('26ooAPkP9FPqk6e9s1', 'l1J9ICtOvOG9XSaXK')"
   ]
  },
  {
   "cell_type": "code",
   "execution_count": 5,
   "metadata": {},
   "outputs": [
    {
     "data": {
      "text/html": [
       "\n",
       "        <div style='display: flex; flex-wrap: wrap;'>\n",
       "            <a href=https://media.giphy.com/media/l1J9ICtOvOG9XSaXK/giphy.gif style='width: 150px; height: 100%; margin: 5px'><img src=https://media.giphy.com/media/l1J9ICtOvOG9XSaXK/giphy.gif alt=l1J9ICtOvOG9XSaXK /></a><a href=https://media.giphy.com/media/65R4yT6qwFcBI6WAn4/giphy.gif style='width: 150px; height: 100%; margin: 5px'><img src=https://media.giphy.com/media/65R4yT6qwFcBI6WAn4/giphy.gif alt=65R4yT6qwFcBI6WAn4 /></a>\n",
       "        </div>\n",
       "    "
      ],
      "text/plain": [
       "<IPython.core.display.HTML object>"
      ]
     },
     "metadata": {},
     "output_type": "display_data"
    },
    {
     "data": {
      "text/plain": [
       "tensor(0.6030)"
      ]
     },
     "execution_count": 5,
     "metadata": {},
     "output_type": "execute_result"
    }
   ],
   "source": [
    "analyze_pair('l1J9ICtOvOG9XSaXK', '65R4yT6qwFcBI6WAn4')"
   ]
  },
  {
   "cell_type": "code",
   "execution_count": 3,
   "metadata": {},
   "outputs": [
    {
     "data": {
      "text/plain": [
       "tensor([[ 0.9312,  0.3801,  0.3544, -0.3473, -1.1882, -0.0616, -0.6151, -1.4151,\n",
       "         -0.3929,  0.3521, -1.0951, -2.0828,  1.0252,  0.6996,  1.0604, -0.5678,\n",
       "         -1.6645, -0.6920,  1.5157,  0.3836,  0.2021, -0.5234, -1.3466, -1.5230,\n",
       "         -0.7865,  1.2755, -1.0113, -1.6809, -1.3282, -1.8277,  0.9909,  0.3874,\n",
       "          0.4252,  0.2709,  0.6332,  0.2527,  0.7623,  1.0579,  1.6045,  0.1014,\n",
       "         -1.1900, -0.2541,  0.2254,  1.8101,  0.8842, -0.6546,  0.9181,  1.1814,\n",
       "         -0.7803, -0.8435,  0.2437,  1.8758, -0.7070, -1.9417, -1.8387,  0.8717,\n",
       "          0.7864, -0.9625, -1.1503,  0.6043,  0.2885,  0.2647, -0.9535,  0.6792]])"
      ]
     },
     "execution_count": 3,
     "metadata": {},
     "output_type": "execute_result"
    }
   ],
   "source": [
    "process_gif('YlEMMJMwAeaPK')"
   ]
  },
  {
   "cell_type": "code",
   "execution_count": 4,
   "metadata": {},
   "outputs": [
    {
     "data": {
      "text/plain": [
       "tensor([[ 1.2042,  0.3718,  0.3372, -0.9457, -1.4839, -0.2239, -0.5049, -1.2134,\n",
       "         -0.4582,  0.4498, -0.5878, -2.1600,  0.9390,  0.6204,  0.9725, -0.3926,\n",
       "         -1.4749, -0.5241,  1.6081,  0.6160,  0.4941, -0.7329, -1.3451, -1.3487,\n",
       "         -0.9270,  1.1555, -1.7773, -1.6084, -0.7934, -1.6868,  0.7975,  0.2587,\n",
       "          0.4989, -0.3777,  0.8173,  0.2505,  0.7500,  0.7297,  1.6664,  0.5043,\n",
       "         -1.1479, -0.0438,  0.0762,  1.5756,  1.2059, -0.7853,  0.8546,  0.9535,\n",
       "         -0.1056, -1.1277,  0.3740,  1.2736, -0.3730, -1.6024, -1.6916,  0.9611,\n",
       "          0.7835, -0.7510, -1.1798,  0.1317, -0.2312,  0.2431, -1.5007,  0.8385]])"
      ]
     },
     "execution_count": 4,
     "metadata": {},
     "output_type": "execute_result"
    }
   ],
   "source": [
    "process_gif('26AHOLVWrGbM4zMys')"
   ]
  },
  {
   "cell_type": "code",
   "execution_count": null,
   "metadata": {},
   "outputs": [],
   "source": []
  }
 ],
 "metadata": {
  "kernelspec": {
   "display_name": "Python 3",
   "language": "python",
   "name": "python3"
  },
  "language_info": {
   "codemirror_mode": {
    "name": "ipython",
    "version": 3
   },
   "file_extension": ".py",
   "mimetype": "text/x-python",
   "name": "python",
   "nbconvert_exporter": "python",
   "pygments_lexer": "ipython3",
   "version": "3.7.0rc1"
  }
 },
 "nbformat": 4,
 "nbformat_minor": 2
}
